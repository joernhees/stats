{
 "cells": [
  {
   "cell_type": "markdown",
   "id": "4c715eba",
   "metadata": {},
   "source": [
    "# COVID-19 Selbsttest & Bayes:"
   ]
  },
  {
   "cell_type": "code",
   "execution_count": 1,
   "id": "89ac01ea",
   "metadata": {
    "ExecuteTime": {
     "end_time": "2021-06-14T17:12:46.291677Z",
     "start_time": "2021-06-14T17:12:46.263925Z"
    }
   },
   "outputs": [],
   "source": [
    "# auto-print assignment values\n",
    "%config InteractiveShell.ast_node_interactivity='last_expr_or_assign'"
   ]
  },
  {
   "cell_type": "markdown",
   "id": "4f688f88",
   "metadata": {},
   "source": [
    "Gegeben Coronavirus (2019-nCoV)-Antigentest Test Confusion Matrix:\n",
    "* $T$: positives Testergebnis\n",
    "* $C$: hat wirklich Corona (genähert durch PCR Test)\n",
    "\n",
    "|     | $C$ | $\\overline{C}$ |\n",
    "|-----|-----|-----|\n",
    "| $T$ | 103 |  1  |\n",
    "| $\\overline{T}$ |   5 | 114 |"
   ]
  },
  {
   "cell_type": "markdown",
   "id": "46ce5ebe",
   "metadata": {},
   "source": [
    "## Unter Testbedingungen also:"
   ]
  },
  {
   "cell_type": "markdown",
   "id": "b8006169",
   "metadata": {},
   "source": [
    "### Zeilenweise: gg. Test $T$ oder $\\overline{T}$, wie wahrscheinlich ist dann $C$ oder $\\overline{C}$?"
   ]
  },
  {
   "cell_type": "code",
   "execution_count": 2,
   "id": "22ec0e52",
   "metadata": {
    "ExecuteTime": {
     "end_time": "2021-06-14T17:12:46.320418Z",
     "start_time": "2021-06-14T17:12:46.298970Z"
    }
   },
   "outputs": [
    {
     "data": {
      "text/plain": [
       "(0.9903846153846154, 0.009615384615384616)"
      ]
     },
     "execution_count": 2,
     "metadata": {},
     "output_type": "execute_result"
    }
   ],
   "source": [
    "P_c_t = 103 / (103+1)  # P(C|T), positive predictive value, precision\n",
    "P_nc_t = 1 / (103+1)   # P(not(C)|T), false discovery rate\n",
    "P_c_t, P_nc_t"
   ]
  },
  {
   "cell_type": "code",
   "execution_count": 3,
   "id": "9de05e39",
   "metadata": {
    "ExecuteTime": {
     "end_time": "2021-06-14T17:12:46.335857Z",
     "start_time": "2021-06-14T17:12:46.326359Z"
    }
   },
   "outputs": [
    {
     "data": {
      "text/plain": [
       "(0.04201680672268908, 0.957983193277311)"
      ]
     },
     "execution_count": 3,
     "metadata": {},
     "output_type": "execute_result"
    }
   ],
   "source": [
    "P_c_nt = 5 / (5+114)     # P(C|not(T)), false omission rate\n",
    "P_nc_nt = 114 / (5+114)  # P(not(C)|not(T)), negative predictive value\n",
    "P_c_nt, P_nc_nt"
   ]
  },
  {
   "cell_type": "markdown",
   "id": "b167432e",
   "metadata": {},
   "source": [
    "### Spaltenweise: gg. $C$ oder $\\overline{C}$, wie wahrscheinlich ist dann $T$ oder $\\overline{T}$?"
   ]
  },
  {
   "cell_type": "code",
   "execution_count": 4,
   "id": "98fb1668",
   "metadata": {
    "ExecuteTime": {
     "end_time": "2021-06-14T17:12:46.351410Z",
     "start_time": "2021-06-14T17:12:46.341189Z"
    }
   },
   "outputs": [
    {
     "data": {
      "text/plain": [
       "(0.9537037037037037, 0.046296296296296294)"
      ]
     },
     "execution_count": 4,
     "metadata": {},
     "output_type": "execute_result"
    }
   ],
   "source": [
    "P_t_c = 103 / (103+5)  # P(T|C), true positive rate, sensitivity, power, recall\n",
    "P_nt_c = 5 / (103+5)   # P(not(T)|C), false negative rate\n",
    "P_t_c, P_nt_c"
   ]
  },
  {
   "cell_type": "code",
   "execution_count": 5,
   "id": "9fbf8984",
   "metadata": {
    "ExecuteTime": {
     "end_time": "2021-06-14T17:12:46.363995Z",
     "start_time": "2021-06-14T17:12:46.354799Z"
    }
   },
   "outputs": [
    {
     "data": {
      "text/plain": [
       "(0.008695652173913044, 0.991304347826087)"
      ]
     },
     "execution_count": 5,
     "metadata": {},
     "output_type": "execute_result"
    }
   ],
   "source": [
    "P_t_nc = 1 / (1+114)     # P(T|not(C)), false positive rate\n",
    "P_nt_nc = 114 / (1+114)  # P(not(T)|not(C)), true negative rate, specificity\n",
    "P_t_nc, P_nt_nc"
   ]
  },
  {
   "cell_type": "markdown",
   "id": "6f1444f9",
   "metadata": {},
   "source": [
    "### Erster Eindruck:"
   ]
  },
  {
   "cell_type": "markdown",
   "id": "f46d1e4d",
   "metadata": {},
   "source": [
    "Guter Test...\n",
    "\n",
    "... aber der \"Prior\", \"Prävalenz\":"
   ]
  },
  {
   "cell_type": "code",
   "execution_count": 6,
   "id": "bc132dab",
   "metadata": {
    "ExecuteTime": {
     "end_time": "2021-06-14T17:12:46.377438Z",
     "start_time": "2021-06-14T17:12:46.368518Z"
    }
   },
   "outputs": [
    {
     "data": {
      "text/plain": [
       "0.484304932735426"
      ]
     },
     "execution_count": 6,
     "metadata": {},
     "output_type": "execute_result"
    }
   ],
   "source": [
    "P_c = (103 + 5) / (103 + 5 + 1 + 114)  # P(C) unter Testbedingungen!"
   ]
  },
  {
   "cell_type": "code",
   "execution_count": 7,
   "id": "66487c91",
   "metadata": {
    "ExecuteTime": {
     "end_time": "2021-06-14T17:12:46.388913Z",
     "start_time": "2021-06-14T17:12:46.381817Z"
    }
   },
   "outputs": [
    {
     "data": {
      "text/plain": [
       "0.4663677130044843"
      ]
     },
     "execution_count": 7,
     "metadata": {},
     "output_type": "execute_result"
    }
   ],
   "source": [
    "P_t = (103 + 1) / (103 + 5 + 1 + 114)  # P(T) unter Testbedingungen!"
   ]
  },
  {
   "cell_type": "markdown",
   "id": "a65b51a3",
   "metadata": {},
   "source": [
    "## Unter realeren Bedingungen:"
   ]
  },
  {
   "cell_type": "code",
   "execution_count": 8,
   "id": "dfba0aad",
   "metadata": {
    "ExecuteTime": {
     "end_time": "2021-06-14T17:12:46.411588Z",
     "start_time": "2021-06-14T17:12:46.398920Z"
    }
   },
   "outputs": [
    {
     "data": {
      "text/plain": [
       "0.00053"
      ]
     },
     "execution_count": 8,
     "metadata": {},
     "output_type": "execute_result"
    }
   ],
   "source": [
    "P_C = 53/100000  # aktuelle 7-Tages-Inzidenz (RKI)"
   ]
  },
  {
   "cell_type": "markdown",
   "id": "dc7670c5",
   "metadata": {},
   "source": [
    "Was bedeutet das für unsere Confusion-Matrix?\n",
    "\n",
    "Anschaulich wird aus\n",
    "\n",
    "|     | $C$ | $\\overline{C}$ |\n",
    "|-----|-----|-----|\n",
    "| $T$ | 103 |  1  |\n",
    "| $\\overline{T}$ |   5 | 114 |\n",
    "\n",
    "durch \"werfen\" von $53$ erwarteten kranken Personen in die Spalce $C$ und $99,947$ erwarteten gesunden Personen in Spalte $\\overline{C}$ ca. diese Tabelle mit erwarteten Personenzahlen:\n",
    "\n",
    "|     | $C'$ | $\\overline{C'}$ |\n",
    "|-----|-----|-----|\n",
    "| $T'$ | 50.546 |  869.104  |\n",
    "| $\\overline{T'}$ |   2.454 | 99,077.896 |\n",
    "\n",
    "Wir sehen, dass die erste Zeile von den falsch positiven dominiert wird, was einfach an der viel größeren Zahl an Personen in der Spalte liegt. An der Tabelle können wir nun ablesen, dass $P(C|T) \\approx \\frac{50.546}{50.546+869.104} = 0.054962$, aber sie ändert sich jede Woche!\n",
    "\n",
    "Daher lieber direkt durch Anwendung des Satzes von Bayes:"
   ]
  },
  {
   "cell_type": "markdown",
   "id": "ca676273",
   "metadata": {},
   "source": [
    "$$P(C|T) = \\frac{P(T|C) P(C)}{P(T)} = \\frac{P(T|C) P(C)}{P(T|C) P(C) + P(T|\\overline{C}) P(\\overline{C})}$$\n",
    "\n",
    "$$P(C|\\overline{T}) = \\frac{P(\\overline{T}|C) P(C)}{P(\\overline{T})} = \\frac{P(\\overline{T}|C) P(C)}{P(\\overline{T}|C) P(C) + P(\\overline{T}|\\overline{C}) P(\\overline{C})}$$"
   ]
  },
  {
   "cell_type": "markdown",
   "id": "a1e46c86",
   "metadata": {},
   "source": [
    "Was sind also die Wahrscheinlichkeiten\n",
    "- $P(C|T)$, also dass man an Covid erkrankt ist, falls ein Selbsttest positiv ist?\n",
    "- $P(C|\\overline{T})$, also dass man an Covid erkrankt ist, falls ein Selbsttest negativ ist?"
   ]
  },
  {
   "cell_type": "markdown",
   "id": "46d1e1a8",
   "metadata": {},
   "source": [
    "Berechnen wir zunächst kurz $P(T)$ und $P(\\overline{T})$:"
   ]
  },
  {
   "cell_type": "code",
   "execution_count": 9,
   "id": "017ec5a2",
   "metadata": {
    "ExecuteTime": {
     "end_time": "2021-06-14T17:12:46.429978Z",
     "start_time": "2021-06-14T17:12:46.420922Z"
    }
   },
   "outputs": [
    {
     "data": {
      "text/plain": [
       "(0.009196506441223832, 0.9908034935587762)"
      ]
     },
     "execution_count": 9,
     "metadata": {},
     "output_type": "execute_result"
    }
   ],
   "source": [
    "P_T = P_t_c * P_C + P_t_nc * (1-P_C)\n",
    "# P_nT = P_nt_c * P_C + P_nt_nc * (1-P_C)\n",
    "P_nT = 1 - P_T\n",
    "P_T, P_nT"
   ]
  },
  {
   "cell_type": "markdown",
   "id": "8da905c3",
   "metadata": {
    "ExecuteTime": {
     "end_time": "2021-06-09T21:30:41.028660Z",
     "start_time": "2021-06-09T21:30:41.024547Z"
    }
   },
   "source": [
    "Auch hier sieht man wieder, dass wir uns stark vom $P(T) \\approx 0.466$ unter den ursprünglichen Testbedingungen entfernt haben."
   ]
  },
  {
   "cell_type": "markdown",
   "id": "6fac1475",
   "metadata": {},
   "source": [
    "### Mein Selbsttest war positiv, bin ich krank? $P(C|T)$"
   ]
  },
  {
   "cell_type": "code",
   "execution_count": 10,
   "id": "503dd1ae",
   "metadata": {
    "ExecuteTime": {
     "end_time": "2021-06-14T17:12:46.443246Z",
     "start_time": "2021-06-14T17:12:46.434670Z"
    }
   },
   "outputs": [
    {
     "data": {
      "text/plain": [
       "0.054962497573774124"
      ]
     },
     "execution_count": 10,
     "metadata": {},
     "output_type": "execute_result"
    }
   ],
   "source": [
    "P_C_T = (P_t_c * P_C) / P_T"
   ]
  },
  {
   "cell_type": "markdown",
   "id": "e57aef6c",
   "metadata": {},
   "source": [
    "Die Wahrscheinlichkeit hierfür ist also tatsächlich eher gering, aber doch deutlich höher als der angesetzte Prior der 7-Tages-Inzidenz."
   ]
  },
  {
   "cell_type": "code",
   "execution_count": 11,
   "id": "d1ebad36",
   "metadata": {
    "ExecuteTime": {
     "end_time": "2021-06-14T17:12:46.450995Z",
     "start_time": "2021-06-14T17:12:46.445922Z"
    }
   },
   "outputs": [
    {
     "data": {
      "text/plain": [
       "0.00053"
      ]
     },
     "execution_count": 11,
     "metadata": {},
     "output_type": "execute_result"
    }
   ],
   "source": [
    "# zur Erinnerung:\n",
    "P_C"
   ]
  },
  {
   "cell_type": "code",
   "execution_count": 12,
   "id": "f7485ac6",
   "metadata": {
    "ExecuteTime": {
     "end_time": "2021-06-14T17:12:46.459461Z",
     "start_time": "2021-06-14T17:12:46.454405Z"
    }
   },
   "outputs": [
    {
     "data": {
      "text/plain": [
       "0.9903846153846154"
      ]
     },
     "execution_count": 12,
     "metadata": {},
     "output_type": "execute_result"
    }
   ],
   "source": [
    "# zur Erinnerung: P(C|T) unter Testbedingungen\n",
    "103/104"
   ]
  },
  {
   "cell_type": "markdown",
   "id": "dfc6c0aa",
   "metadata": {},
   "source": [
    "Man hat also anders als unter Testbedingungen aufgrund des eher geringen realen Priors momentan nur eine geringe Wahrscheinlichkeit, dass man wirklich krank ist. (Natürlich vorausgesetzt, dass man sich nicht aufgrund eines Verdachts getestet hat.)\n",
    "\n",
    "Daher auch die übliche Empfehlung: via PCR Test kontrollieren lassen!\n",
    "\n",
    "Dennoch natürlich: An die geltenden Regeln halten, erstmal in Selbstquarantäne, denn $P(C|T) >> P(C)$."
   ]
  },
  {
   "cell_type": "markdown",
   "id": "da6f527d",
   "metadata": {},
   "source": [
    "### Mein Selbsttest war negativ, bin ich evtl. dennoch krank? $P(C|\\overline{T})$"
   ]
  },
  {
   "cell_type": "code",
   "execution_count": 13,
   "id": "1b8fb70c",
   "metadata": {
    "ExecuteTime": {
     "end_time": "2021-06-14T17:12:46.466914Z",
     "start_time": "2021-06-14T17:12:46.461920Z"
    }
   },
   "outputs": [
    {
     "data": {
      "text/plain": [
       "0.000025"
      ]
     },
     "execution_count": 13,
     "metadata": {},
     "output_type": "execute_result"
    }
   ],
   "source": [
    "%precision %.6f\n",
    "P_c_nT = (P_nt_c * P_C) / P_nT"
   ]
  },
  {
   "cell_type": "markdown",
   "id": "9389ea19",
   "metadata": {},
   "source": [
    "Das ist also durch den negativen Testausgang nochmal unwahrscheinlicher geworden als die 7-Tages-Inzidenz, also $P(C) >> P(C|\\overline{T})$."
   ]
  },
  {
   "cell_type": "markdown",
   "id": "4f5203df",
   "metadata": {},
   "source": [
    "## Fazit:\n",
    "\n",
    "Nutzen Sie die Testangebote, aber bewahren Sie die Ruhe bei einem ersten evtl. falsch positiven Testergebnis."
   ]
  },
  {
   "cell_type": "markdown",
   "id": "25723a90",
   "metadata": {},
   "source": [
    "## Weiterführende Links:\n",
    "\n",
    "- [Confusion Matrix](https://en.wikipedia.org/wiki/Confusion_matrix)\n",
    "- [Satz von Bayes](https://de.wikipedia.org/wiki/Satz_von_Bayes), [Bayes' theorem](https://en.wikipedia.org/wiki/Bayes%27_theorem)\n",
    "- [RKI Lage-/Situationsberichte](https://www.rki.de/DE/Content/InfAZ/N/Neuartiges_Coronavirus/Situationsberichte/Gesamt.html)\n",
    "- [RKI Testzahlen](https://www.rki.de/DE/Content/InfAZ/N/Neuartiges_Coronavirus/Testzahl.html)"
   ]
  }
 ],
 "metadata": {
  "kernelspec": {
   "display_name": "Python 3",
   "language": "python",
   "name": "python3"
  },
  "language_info": {
   "codemirror_mode": {
    "name": "ipython",
    "version": 3
   },
   "file_extension": ".py",
   "mimetype": "text/x-python",
   "name": "python",
   "nbconvert_exporter": "python",
   "pygments_lexer": "ipython3",
   "version": "3.9.5"
  },
  "toc": {
   "base_numbering": 1,
   "nav_menu": {},
   "number_sections": true,
   "sideBar": true,
   "skip_h1_title": true,
   "title_cell": "Table of Contents",
   "title_sidebar": "Contents",
   "toc_cell": false,
   "toc_position": {},
   "toc_section_display": true,
   "toc_window_display": true
  }
 },
 "nbformat": 4,
 "nbformat_minor": 5
}
