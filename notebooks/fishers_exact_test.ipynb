{
 "cells": [
  {
   "cell_type": "markdown",
   "id": "18aacbc7",
   "metadata": {},
   "source": [
    "# Fisher's exact test examples"
   ]
  },
  {
   "cell_type": "code",
   "execution_count": 1,
   "id": "57071c49",
   "metadata": {
    "ExecuteTime": {
     "end_time": "2021-06-14T17:20:35.760912Z",
     "start_time": "2021-06-14T17:20:35.371815Z"
    }
   },
   "outputs": [],
   "source": [
    "from scipy.stats import fisher_exact\n",
    "from math import factorial as fac"
   ]
  },
  {
   "cell_type": "markdown",
   "id": "79ba11a6",
   "metadata": {},
   "source": [
    "## Tea Tasting Lady example"
   ]
  },
  {
   "cell_type": "code",
   "execution_count": 2,
   "id": "f059ff95",
   "metadata": {
    "ExecuteTime": {
     "end_time": "2021-06-14T17:20:35.765405Z",
     "start_time": "2021-06-14T17:20:35.762886Z"
    }
   },
   "outputs": [],
   "source": [
    "# lady gets all of them right\n",
    "a, b = 4, 0\n",
    "c, d = 0, 4"
   ]
  },
  {
   "cell_type": "markdown",
   "id": "679ac0d3",
   "metadata": {
    "ExecuteTime": {
     "end_time": "2021-06-13T21:22:27.611979Z",
     "start_time": "2021-06-13T21:22:27.606797Z"
    }
   },
   "source": [
    "$$p = \\frac{ \\displaystyle{{a+b}\\choose{a}} \\displaystyle{{c+d}\\choose{c}} }{ \\displaystyle{{n}\\choose{a+c}} } = \\frac{ \\displaystyle{{a+b}\\choose{b}} \\displaystyle{{c+d}\\choose{d}} }{ \\displaystyle{{n}\\choose{b+d}} } = \\frac{(a+b)!~(c+d)!~(a+c)!~(b+d)!}{a!~~b!~~c!~~d!~~n!}$$"
   ]
  },
  {
   "cell_type": "code",
   "execution_count": 3,
   "id": "b5785a5b",
   "metadata": {
    "ExecuteTime": {
     "end_time": "2021-06-14T17:20:35.778957Z",
     "start_time": "2021-06-14T17:20:35.768404Z"
    }
   },
   "outputs": [
    {
     "data": {
      "text/plain": [
       "0.014285714285714285"
      ]
     },
     "execution_count": 3,
     "metadata": {},
     "output_type": "execute_result"
    }
   ],
   "source": [
    "def p(a,b,c,d):\n",
    "    return (\n",
    "        fac(a+b)*fac(c+d)*fac(a+c)*fac(b+d)\n",
    "    ) / (\n",
    "        fac(a)*fac(b)*fac(c)*fac(d)*fac(a+b+c+d)\n",
    "    )\n",
    "p(a,b,c,d)"
   ]
  },
  {
   "cell_type": "code",
   "execution_count": 4,
   "id": "9492edc8",
   "metadata": {
    "ExecuteTime": {
     "end_time": "2021-06-14T17:20:35.787173Z",
     "start_time": "2021-06-14T17:20:35.781762Z"
    }
   },
   "outputs": [
    {
     "data": {
      "text/plain": [
       "0.014285714285714268"
      ]
     },
     "execution_count": 4,
     "metadata": {},
     "output_type": "execute_result"
    }
   ],
   "source": [
    "oddsratio, p_value = fisher_exact([\n",
    "    [a, b],\n",
    "    [c, d]\n",
    "], alternative='greater')\n",
    "p_value"
   ]
  },
  {
   "cell_type": "code",
   "execution_count": 5,
   "id": "97695b01",
   "metadata": {
    "ExecuteTime": {
     "end_time": "2021-06-14T17:20:35.792477Z",
     "start_time": "2021-06-14T17:20:35.789155Z"
    }
   },
   "outputs": [
    {
     "data": {
      "text/plain": [
       "0.014285714285714285"
      ]
     },
     "execution_count": 5,
     "metadata": {},
     "output_type": "execute_result"
    }
   ],
   "source": [
    "1/70"
   ]
  },
  {
   "cell_type": "code",
   "execution_count": 6,
   "id": "271faf99",
   "metadata": {
    "ExecuteTime": {
     "end_time": "2021-06-14T17:20:35.800152Z",
     "start_time": "2021-06-14T17:20:35.794697Z"
    }
   },
   "outputs": [
    {
     "data": {
      "text/plain": [
       "0.24285714285714263"
      ]
     },
     "execution_count": 6,
     "metadata": {},
     "output_type": "execute_result"
    }
   ],
   "source": [
    "# lady gets all but one right\n",
    "oddsratio, p_value = fisher_exact([\n",
    "    [3, 1],\n",
    "    [1, 3]\n",
    "], alternative='greater')\n",
    "p_value"
   ]
  },
  {
   "cell_type": "code",
   "execution_count": 7,
   "id": "1665bdd6",
   "metadata": {
    "ExecuteTime": {
     "end_time": "2021-06-14T17:20:35.805789Z",
     "start_time": "2021-06-14T17:20:35.802061Z"
    }
   },
   "outputs": [
    {
     "data": {
      "text/plain": [
       "0.24285714285714285"
      ]
     },
     "execution_count": 7,
     "metadata": {},
     "output_type": "execute_result"
    }
   ],
   "source": [
    "17/70"
   ]
  },
  {
   "cell_type": "code",
   "execution_count": 8,
   "id": "82e2d00b",
   "metadata": {
    "ExecuteTime": {
     "end_time": "2021-06-14T17:20:35.816807Z",
     "start_time": "2021-06-14T17:20:35.810845Z"
    }
   },
   "outputs": [
    {
     "data": {
      "text/plain": [
       "0.22857142857142856"
      ]
     },
     "execution_count": 8,
     "metadata": {},
     "output_type": "execute_result"
    }
   ],
   "source": [
    "# showing that we need to sum P(A >= a):\n",
    "a, b = 3, 1\n",
    "c, d = 1, 3\n",
    "p(a,b,c,d)"
   ]
  },
  {
   "cell_type": "code",
   "execution_count": 9,
   "id": "499194ed",
   "metadata": {
    "ExecuteTime": {
     "end_time": "2021-06-14T17:20:35.824678Z",
     "start_time": "2021-06-14T17:20:35.820034Z"
    }
   },
   "outputs": [
    {
     "data": {
      "text/plain": [
       "0.22857142857142856"
      ]
     },
     "execution_count": 9,
     "metadata": {},
     "output_type": "execute_result"
    }
   ],
   "source": [
    "16/70"
   ]
  },
  {
   "cell_type": "markdown",
   "id": "347e89a3",
   "metadata": {},
   "source": [
    "## Shark/Whale counting example"
   ]
  },
  {
   "cell_type": "markdown",
   "id": "e5ad2690",
   "metadata": {},
   "source": [
    "(from the [scipy docs](https://docs.scipy.org/doc/scipy/reference/generated/scipy.stats.fisher_exact.html))\n",
    "\n",
    "Say we spend a few days counting whales and sharks in the Atlantic and\n",
    "Indian oceans. In the Atlantic ocean we find 8 whales and 1 shark, in the\n",
    "Indian ocean 2 whales and 5 sharks. Then our contingency table is:\n",
    "\n",
    "            Atlantic  Indian\n",
    "    whales     8        2\n",
    "    sharks     1        5\n",
    "\n",
    "Under the assumption, that the whales and sharks are independent of the ocean, what is the p-value to observe something at least as extreme as we've seen here?"
   ]
  },
  {
   "cell_type": "code",
   "execution_count": 10,
   "id": "3ecb311c",
   "metadata": {
    "ExecuteTime": {
     "end_time": "2021-06-14T17:20:35.836022Z",
     "start_time": "2021-06-14T17:20:35.827937Z"
    }
   },
   "outputs": [
    {
     "data": {
      "text/plain": [
       "0.024475524475524455"
      ]
     },
     "execution_count": 10,
     "metadata": {},
     "output_type": "execute_result"
    }
   ],
   "source": [
    "oddsratio, p_value = fisher_exact([\n",
    "    [8, 2],\n",
    "    [1, 5]\n",
    "], alternative='greater')\n",
    "p_value"
   ]
  },
  {
   "cell_type": "markdown",
   "id": "fb0c89be",
   "metadata": {},
   "source": [
    "## Covid Selbsttest"
   ]
  },
  {
   "cell_type": "markdown",
   "id": "57ea959c",
   "metadata": {},
   "source": [
    "Gegeben Coronavirus (2019-nCoV)-Antigentest Test Confusion Matrix:\n",
    "* $T$: positives Testergebnis\n",
    "* $C$: hat wirklich Corona (genähert durch PCR Test)\n",
    "\n",
    "|     | $C$ | $\\overline{C}$ |\n",
    "|-----|-----|-----|\n",
    "| $T$ | 103 |  1  |\n",
    "| $\\overline{T}$ |   5 | 114 |"
   ]
  },
  {
   "cell_type": "code",
   "execution_count": 11,
   "id": "8defa527",
   "metadata": {
    "ExecuteTime": {
     "end_time": "2021-06-14T17:20:35.848970Z",
     "start_time": "2021-06-14T17:20:35.840194Z"
    }
   },
   "outputs": [
    {
     "data": {
      "text/plain": [
       "2.946611412142866e-56"
      ]
     },
     "execution_count": 11,
     "metadata": {},
     "output_type": "execute_result"
    }
   ],
   "source": [
    "oddsratio, p_value = fisher_exact([\n",
    "    [103, 1],\n",
    "    [5, 114]\n",
    "], alternative='greater')\n",
    "p_value"
   ]
  },
  {
   "cell_type": "code",
   "execution_count": null,
   "id": "916d7b25",
   "metadata": {},
   "outputs": [],
   "source": []
  }
 ],
 "metadata": {
  "kernelspec": {
   "display_name": "Python 3",
   "language": "python",
   "name": "python3"
  },
  "language_info": {
   "codemirror_mode": {
    "name": "ipython",
    "version": 3
   },
   "file_extension": ".py",
   "mimetype": "text/x-python",
   "name": "python",
   "nbconvert_exporter": "python",
   "pygments_lexer": "ipython3",
   "version": "3.9.5"
  },
  "toc": {
   "base_numbering": 1,
   "nav_menu": {},
   "number_sections": true,
   "sideBar": true,
   "skip_h1_title": true,
   "title_cell": "Table of Contents",
   "title_sidebar": "Contents",
   "toc_cell": false,
   "toc_position": {},
   "toc_section_display": true,
   "toc_window_display": false
  }
 },
 "nbformat": 4,
 "nbformat_minor": 5
}
